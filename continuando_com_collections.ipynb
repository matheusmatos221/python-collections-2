{
 "cells": [
  {
   "cell_type": "code",
   "execution_count": 2,
   "id": "0fb0d54a-1db4-4fc1-84ae-3b430ffcbc96",
   "metadata": {},
   "outputs": [],
   "source": [
    "usuarios_data_science = [15, 23, 43, 56]\n",
    "usuarios_machine_learning = [13, 23, 56, 42]"
   ]
  },
  {
   "cell_type": "code",
   "execution_count": 3,
   "id": "d290a7b8-00d2-4c6a-911c-185a1eb33cf9",
   "metadata": {},
   "outputs": [
    {
     "data": {
      "text/plain": [
       "[15, 23, 43, 56, 13, 23, 56, 42]"
      ]
     },
     "execution_count": 3,
     "metadata": {},
     "output_type": "execute_result"
    }
   ],
   "source": [
    "assistiram = usuarios_data_science.copy()\n",
    "assistiram.extend(usuarios_machine_learning)\n",
    "assistiram"
   ]
  },
  {
   "cell_type": "code",
   "execution_count": 4,
   "id": "7f81585e-ee2f-47eb-a9ed-2b7da7fe603d",
   "metadata": {},
   "outputs": [
    {
     "data": {
      "text/plain": [
       "8"
      ]
     },
     "execution_count": 4,
     "metadata": {},
     "output_type": "execute_result"
    }
   ],
   "source": [
    "len(assistiram)"
   ]
  },
  {
   "cell_type": "code",
   "execution_count": 5,
   "id": "cae6feb4-fcb6-41b9-b510-9e51f112ee00",
   "metadata": {},
   "outputs": [
    {
     "data": {
      "text/plain": [
       "{13, 15, 23, 42, 43, 56}"
      ]
     },
     "execution_count": 5,
     "metadata": {},
     "output_type": "execute_result"
    }
   ],
   "source": [
    "set(assistiram)"
   ]
  },
  {
   "cell_type": "code",
   "execution_count": 6,
   "id": "20f12e0c-dc6d-49e0-820b-4c7e0d800eea",
   "metadata": {},
   "outputs": [
    {
     "data": {
      "text/plain": [
       "list"
      ]
     },
     "execution_count": 6,
     "metadata": {},
     "output_type": "execute_result"
    }
   ],
   "source": [
    "type(assistiram)"
   ]
  },
  {
   "cell_type": "code",
   "execution_count": 7,
   "id": "c50f1dbc-8ffe-4b2c-9de6-48b7bc53b9e5",
   "metadata": {},
   "outputs": [
    {
     "data": {
      "text/plain": [
       "set"
      ]
     },
     "execution_count": 7,
     "metadata": {},
     "output_type": "execute_result"
    }
   ],
   "source": [
    "type(set({1, 3, 5, 6}))"
   ]
  },
  {
   "cell_type": "code",
   "execution_count": 8,
   "id": "5ed1a139-59f2-4368-b29f-e245364a6de7",
   "metadata": {},
   "outputs": [],
   "source": [
    "usuarios_data_science = {15, 23, 43, 56}\n",
    "usuarios_machine_learning = {13, 23, 56, 42}"
   ]
  },
  {
   "cell_type": "code",
   "execution_count": 9,
   "id": "026548b5-d46e-4e05-9c1d-f6cda384ebc5",
   "metadata": {},
   "outputs": [
    {
     "data": {
      "text/plain": [
       "{13, 23, 42, 56}"
      ]
     },
     "execution_count": 9,
     "metadata": {},
     "output_type": "execute_result"
    }
   ],
   "source": [
    "usuarios_machine_learning"
   ]
  },
  {
   "cell_type": "code",
   "execution_count": 10,
   "id": "e16578e5-906e-496a-841c-097227dd2d60",
   "metadata": {},
   "outputs": [
    {
     "ename": "TypeError",
     "evalue": "'set' object is not subscriptable",
     "output_type": "error",
     "traceback": [
      "\u001b[1;31m---------------------------------------------------------------------------\u001b[0m",
      "\u001b[1;31mTypeError\u001b[0m                                 Traceback (most recent call last)",
      "\u001b[1;32m~\\AppData\\Local\\Temp/ipykernel_8360/454876398.py\u001b[0m in \u001b[0;36m<module>\u001b[1;34m\u001b[0m\n\u001b[1;32m----> 1\u001b[1;33m \u001b[0musuarios_machine_learning\u001b[0m\u001b[1;33m[\u001b[0m\u001b[1;36m3\u001b[0m\u001b[1;33m]\u001b[0m\u001b[1;33m\u001b[0m\u001b[1;33m\u001b[0m\u001b[0m\n\u001b[0m",
      "\u001b[1;31mTypeError\u001b[0m: 'set' object is not subscriptable"
     ]
    }
   ],
   "source": [
    "usuarios_machine_learning[3]"
   ]
  },
  {
   "cell_type": "code",
   "execution_count": null,
   "id": "84ea57df-adf1-4199-8879-2cbc22b431b0",
   "metadata": {},
   "outputs": [],
   "source": []
  },
  {
   "cell_type": "code",
   "execution_count": null,
   "id": "f4a739d8-716c-448d-8b70-1211653c1a0d",
   "metadata": {},
   "outputs": [],
   "source": [
    "for usuario in set(assistiram):\n",
    "    print(usuario)"
   ]
  },
  {
   "cell_type": "code",
   "execution_count": 11,
   "id": "95c8938e-a7e9-4ef4-993c-801f9efce103",
   "metadata": {},
   "outputs": [
    {
     "data": {
      "text/plain": [
       "{13, 15, 23, 42, 43, 56}"
      ]
     },
     "execution_count": 11,
     "metadata": {},
     "output_type": "execute_result"
    }
   ],
   "source": [
    "usuarios_data_science | usuarios_machine_learning"
   ]
  },
  {
   "cell_type": "code",
   "execution_count": 12,
   "id": "5abc96e5-dc33-42e3-bb40-e5e6db98651a",
   "metadata": {},
   "outputs": [
    {
     "data": {
      "text/plain": [
       "{23, 56}"
      ]
     },
     "execution_count": 12,
     "metadata": {},
     "output_type": "execute_result"
    }
   ],
   "source": [
    "usuarios_data_science & usuarios_machine_learning"
   ]
  },
  {
   "cell_type": "code",
   "execution_count": 13,
   "id": "1ab8f8fa-8dc7-4d12-9024-feb7a3aafa94",
   "metadata": {},
   "outputs": [
    {
     "data": {
      "text/plain": [
       "{15, 43}"
      ]
     },
     "execution_count": 13,
     "metadata": {},
     "output_type": "execute_result"
    }
   ],
   "source": [
    "usuarios_data_science - usuarios_machine_learning"
   ]
  },
  {
   "cell_type": "code",
   "execution_count": 15,
   "id": "15a15472-75a3-4069-ab7b-f4cb110fecf4",
   "metadata": {},
   "outputs": [
    {
     "data": {
      "text/plain": [
       "True"
      ]
     },
     "execution_count": 15,
     "metadata": {},
     "output_type": "execute_result"
    }
   ],
   "source": [
    "fez_ds_mas_nao_fez_ml = usuarios_data_science - usuarios_machine_learning\n",
    "15 in fez_ds_mas_nao_fez_ml"
   ]
  },
  {
   "cell_type": "code",
   "execution_count": 16,
   "id": "57ace201-1e5e-47fd-b5e1-67dc8c07fa48",
   "metadata": {},
   "outputs": [
    {
     "data": {
      "text/plain": [
       "False"
      ]
     },
     "execution_count": 16,
     "metadata": {},
     "output_type": "execute_result"
    }
   ],
   "source": [
    "23 in fez_ds_mas_nao_fez_ml"
   ]
  },
  {
   "cell_type": "code",
   "execution_count": null,
   "id": "1cbf7458-f617-4d81-87cb-6b72d5b8c629",
   "metadata": {},
   "outputs": [
    {
     "data": {
      "text/plain": [
       "{13, 15, 42, 43}"
      ]
     },
     "execution_count": 17,
     "metadata": {},
     "output_type": "execute_result"
    }
   ],
   "source": [
    "usuarios_data_science ^ usuarios_machine_learning"
   ]
  },
  {
   "cell_type": "code",
   "execution_count": 18,
   "id": "39f2cec5-0b77-4190-a11f-e568c8190f58",
   "metadata": {},
   "outputs": [
    {
     "data": {
      "text/plain": [
       "7"
      ]
     },
     "execution_count": 18,
     "metadata": {},
     "output_type": "execute_result"
    }
   ],
   "source": [
    "usuarios = {1, 5, 76, 34, 52, 13, 17}\n",
    "len(usuarios)"
   ]
  },
  {
   "cell_type": "code",
   "execution_count": 21,
   "id": "b1b7e0c9-a265-459b-aa61-8da48c413bed",
   "metadata": {},
   "outputs": [
    {
     "data": {
      "text/plain": [
       "7"
      ]
     },
     "execution_count": 21,
     "metadata": {},
     "output_type": "execute_result"
    }
   ],
   "source": [
    "usuarios.add(13)\n",
    "len(usuarios)"
   ]
  },
  {
   "cell_type": "code",
   "execution_count": 22,
   "id": "b054227b-8b7f-4c9c-b3cf-3722da74bd6c",
   "metadata": {},
   "outputs": [
    {
     "data": {
      "text/plain": [
       "8"
      ]
     },
     "execution_count": 22,
     "metadata": {},
     "output_type": "execute_result"
    }
   ],
   "source": [
    "usuarios.add(765)\n",
    "len(usuarios)"
   ]
  },
  {
   "cell_type": "code",
   "execution_count": 23,
   "id": "01d4b49b-2caa-4f93-b954-672e35575e83",
   "metadata": {},
   "outputs": [
    {
     "data": {
      "text/plain": [
       "frozenset({1, 5, 13, 17, 34, 52, 76, 765})"
      ]
     },
     "execution_count": 23,
     "metadata": {},
     "output_type": "execute_result"
    }
   ],
   "source": [
    "usuarios = frozenset(usuarios)\n",
    "usuarios"
   ]
  },
  {
   "cell_type": "code",
   "execution_count": 24,
   "id": "fc7adb12-3ffa-44fd-8a90-26f76784cba2",
   "metadata": {},
   "outputs": [
    {
     "data": {
      "text/plain": [
       "frozenset"
      ]
     },
     "execution_count": 24,
     "metadata": {},
     "output_type": "execute_result"
    }
   ],
   "source": [
    "type(usuarios)"
   ]
  },
  {
   "cell_type": "code",
   "execution_count": 25,
   "id": "dac6c9bc-d30f-4342-8745-a453653c7189",
   "metadata": {},
   "outputs": [
    {
     "ename": "AttributeError",
     "evalue": "'frozenset' object has no attribute 'add'",
     "output_type": "error",
     "traceback": [
      "\u001b[1;31m---------------------------------------------------------------------------\u001b[0m",
      "\u001b[1;31mAttributeError\u001b[0m                            Traceback (most recent call last)",
      "\u001b[1;32m~\\AppData\\Local\\Temp/ipykernel_8360/4073531611.py\u001b[0m in \u001b[0;36m<module>\u001b[1;34m\u001b[0m\n\u001b[1;32m----> 1\u001b[1;33m \u001b[0musuarios\u001b[0m\u001b[1;33m.\u001b[0m\u001b[0madd\u001b[0m\u001b[1;33m(\u001b[0m\u001b[1;36m12\u001b[0m\u001b[1;33m)\u001b[0m\u001b[1;33m\u001b[0m\u001b[1;33m\u001b[0m\u001b[0m\n\u001b[0m",
      "\u001b[1;31mAttributeError\u001b[0m: 'frozenset' object has no attribute 'add'"
     ]
    }
   ],
   "source": [
    "usuarios.add(12)"
   ]
  },
  {
   "cell_type": "code",
   "execution_count": 26,
   "id": "23b20ec7-81bf-4830-b84f-b285fb78722c",
   "metadata": {},
   "outputs": [
    {
     "data": {
      "text/plain": [
       "['Bem',\n",
       " 'vindo,',\n",
       " 'meu',\n",
       " 'nome',\n",
       " 'é',\n",
       " 'Matheus,',\n",
       " 'eu',\n",
       " 'gosto',\n",
       " 'muito',\n",
       " 'de',\n",
       " 'cachorros',\n",
       " 'e',\n",
       " 'tenho',\n",
       " 'o',\n",
       " 'meu',\n",
       " 'cachorro',\n",
       " 'Billy']"
      ]
     },
     "execution_count": 26,
     "metadata": {},
     "output_type": "execute_result"
    }
   ],
   "source": [
    "meu_texto = \"Bem vindo, meu nome é Matheus, eu gosto muito de cachorros e tenho o meu cachorro Billy\"\n",
    "meu_texto.split()"
   ]
  },
  {
   "cell_type": "code",
   "execution_count": 27,
   "id": "8df4f08c-d752-4d98-a0d2-697ad3298172",
   "metadata": {},
   "outputs": [
    {
     "data": {
      "text/plain": [
       "{'Bem',\n",
       " 'Billy',\n",
       " 'Matheus,',\n",
       " 'cachorro',\n",
       " 'cachorros',\n",
       " 'de',\n",
       " 'e',\n",
       " 'eu',\n",
       " 'gosto',\n",
       " 'meu',\n",
       " 'muito',\n",
       " 'nome',\n",
       " 'o',\n",
       " 'tenho',\n",
       " 'vindo,',\n",
       " 'é'}"
      ]
     },
     "execution_count": 27,
     "metadata": {},
     "output_type": "execute_result"
    }
   ],
   "source": [
    "set(meu_texto.split())"
   ]
  },
  {
   "cell_type": "code",
   "execution_count": null,
   "id": "e8281615-88bf-40af-b5d5-2ff153f212f0",
   "metadata": {},
   "outputs": [],
   "source": []
  }
 ],
 "metadata": {
  "kernelspec": {
   "display_name": "Python 3 (ipykernel)",
   "language": "python",
   "name": "python3"
  },
  "language_info": {
   "codemirror_mode": {
    "name": "ipython",
    "version": 3
   },
   "file_extension": ".py",
   "mimetype": "text/x-python",
   "name": "python",
   "nbconvert_exporter": "python",
   "pygments_lexer": "ipython3",
   "version": "3.10.0"
  }
 },
 "nbformat": 4,
 "nbformat_minor": 5
}
