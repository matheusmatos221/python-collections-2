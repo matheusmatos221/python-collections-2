{
 "cells": [
  {
   "cell_type": "code",
   "execution_count": 2,
   "id": "0fb0d54a-1db4-4fc1-84ae-3b430ffcbc96",
   "metadata": {},
   "outputs": [],
   "source": [
    "usuarios_data_science = [15, 23, 43, 56]\n",
    "usuarios_machine_learning = [13, 23, 56, 42]"
   ]
  },
  {
   "cell_type": "code",
   "execution_count": 3,
   "id": "d290a7b8-00d2-4c6a-911c-185a1eb33cf9",
   "metadata": {},
   "outputs": [
    {
     "data": {
      "text/plain": [
       "[15, 23, 43, 56, 13, 23, 56, 42]"
      ]
     },
     "execution_count": 3,
     "metadata": {},
     "output_type": "execute_result"
    }
   ],
   "source": [
    "assistiram = usuarios_data_science.copy()\n",
    "assistiram.extend(usuarios_machine_learning)\n",
    "assistiram"
   ]
  },
  {
   "cell_type": "code",
   "execution_count": 4,
   "id": "7f81585e-ee2f-47eb-a9ed-2b7da7fe603d",
   "metadata": {},
   "outputs": [
    {
     "data": {
      "text/plain": [
       "8"
      ]
     },
     "execution_count": 4,
     "metadata": {},
     "output_type": "execute_result"
    }
   ],
   "source": [
    "len(assistiram)"
   ]
  },
  {
   "cell_type": "code",
   "execution_count": 5,
   "id": "cae6feb4-fcb6-41b9-b510-9e51f112ee00",
   "metadata": {},
   "outputs": [
    {
     "data": {
      "text/plain": [
       "{13, 15, 23, 42, 43, 56}"
      ]
     },
     "execution_count": 5,
     "metadata": {},
     "output_type": "execute_result"
    }
   ],
   "source": [
    "set(assistiram)"
   ]
  },
  {
   "cell_type": "code",
   "execution_count": 6,
   "id": "20f12e0c-dc6d-49e0-820b-4c7e0d800eea",
   "metadata": {},
   "outputs": [
    {
     "data": {
      "text/plain": [
       "list"
      ]
     },
     "execution_count": 6,
     "metadata": {},
     "output_type": "execute_result"
    }
   ],
   "source": [
    "type(assistiram)"
   ]
  },
  {
   "cell_type": "code",
   "execution_count": 7,
   "id": "c50f1dbc-8ffe-4b2c-9de6-48b7bc53b9e5",
   "metadata": {},
   "outputs": [
    {
     "data": {
      "text/plain": [
       "set"
      ]
     },
     "execution_count": 7,
     "metadata": {},
     "output_type": "execute_result"
    }
   ],
   "source": [
    "type(set({1, 3, 5, 6}))"
   ]
  },
  {
   "cell_type": "code",
   "execution_count": 8,
   "id": "5ed1a139-59f2-4368-b29f-e245364a6de7",
   "metadata": {},
   "outputs": [],
   "source": [
    "usuarios_data_science = {15, 23, 43, 56}\n",
    "usuarios_machine_learning = {13, 23, 56, 42}"
   ]
  },
  {
   "cell_type": "code",
   "execution_count": 9,
   "id": "026548b5-d46e-4e05-9c1d-f6cda384ebc5",
   "metadata": {},
   "outputs": [
    {
     "data": {
      "text/plain": [
       "{13, 23, 42, 56}"
      ]
     },
     "execution_count": 9,
     "metadata": {},
     "output_type": "execute_result"
    }
   ],
   "source": [
    "usuarios_machine_learning"
   ]
  },
  {
   "cell_type": "code",
   "execution_count": 10,
   "id": "e16578e5-906e-496a-841c-097227dd2d60",
   "metadata": {},
   "outputs": [
    {
     "ename": "TypeError",
     "evalue": "'set' object is not subscriptable",
     "output_type": "error",
     "traceback": [
      "\u001b[1;31m---------------------------------------------------------------------------\u001b[0m",
      "\u001b[1;31mTypeError\u001b[0m                                 Traceback (most recent call last)",
      "\u001b[1;32m~\\AppData\\Local\\Temp/ipykernel_8360/454876398.py\u001b[0m in \u001b[0;36m<module>\u001b[1;34m\u001b[0m\n\u001b[1;32m----> 1\u001b[1;33m \u001b[0musuarios_machine_learning\u001b[0m\u001b[1;33m[\u001b[0m\u001b[1;36m3\u001b[0m\u001b[1;33m]\u001b[0m\u001b[1;33m\u001b[0m\u001b[1;33m\u001b[0m\u001b[0m\n\u001b[0m",
      "\u001b[1;31mTypeError\u001b[0m: 'set' object is not subscriptable"
     ]
    }
   ],
   "source": [
    "usuarios_machine_learning[3]"
   ]
  },
  {
   "cell_type": "code",
   "execution_count": null,
   "id": "84ea57df-adf1-4199-8879-2cbc22b431b0",
   "metadata": {},
   "outputs": [],
   "source": []
  },
  {
   "cell_type": "code",
   "execution_count": null,
   "id": "f4a739d8-716c-448d-8b70-1211653c1a0d",
   "metadata": {},
   "outputs": [],
   "source": [
    "for usuario in set(assistiram):\n",
    "    print(usuario)"
   ]
  },
  {
   "cell_type": "code",
   "execution_count": 11,
   "id": "95c8938e-a7e9-4ef4-993c-801f9efce103",
   "metadata": {},
   "outputs": [
    {
     "data": {
      "text/plain": [
       "{13, 15, 23, 42, 43, 56}"
      ]
     },
     "execution_count": 11,
     "metadata": {},
     "output_type": "execute_result"
    }
   ],
   "source": [
    "usuarios_data_science | usuarios_machine_learning"
   ]
  },
  {
   "cell_type": "code",
   "execution_count": 12,
   "id": "5abc96e5-dc33-42e3-bb40-e5e6db98651a",
   "metadata": {},
   "outputs": [
    {
     "data": {
      "text/plain": [
       "{23, 56}"
      ]
     },
     "execution_count": 12,
     "metadata": {},
     "output_type": "execute_result"
    }
   ],
   "source": [
    "usuarios_data_science & usuarios_machine_learning"
   ]
  },
  {
   "cell_type": "code",
   "execution_count": 13,
   "id": "1ab8f8fa-8dc7-4d12-9024-feb7a3aafa94",
   "metadata": {},
   "outputs": [
    {
     "data": {
      "text/plain": [
       "{15, 43}"
      ]
     },
     "execution_count": 13,
     "metadata": {},
     "output_type": "execute_result"
    }
   ],
   "source": [
    "usuarios_data_science - usuarios_machine_learning"
   ]
  },
  {
   "cell_type": "code",
   "execution_count": 15,
   "id": "15a15472-75a3-4069-ab7b-f4cb110fecf4",
   "metadata": {},
   "outputs": [
    {
     "data": {
      "text/plain": [
       "True"
      ]
     },
     "execution_count": 15,
     "metadata": {},
     "output_type": "execute_result"
    }
   ],
   "source": [
    "fez_ds_mas_nao_fez_ml = usuarios_data_science - usuarios_machine_learning\n",
    "15 in fez_ds_mas_nao_fez_ml"
   ]
  },
  {
   "cell_type": "code",
   "execution_count": 16,
   "id": "57ace201-1e5e-47fd-b5e1-67dc8c07fa48",
   "metadata": {},
   "outputs": [
    {
     "data": {
      "text/plain": [
       "False"
      ]
     },
     "execution_count": 16,
     "metadata": {},
     "output_type": "execute_result"
    }
   ],
   "source": [
    "23 in fez_ds_mas_nao_fez_ml"
   ]
  },
  {
   "cell_type": "code",
   "execution_count": null,
   "id": "1cbf7458-f617-4d81-87cb-6b72d5b8c629",
   "metadata": {},
   "outputs": [
    {
     "data": {
      "text/plain": [
       "{13, 15, 42, 43}"
      ]
     },
     "execution_count": 17,
     "metadata": {},
     "output_type": "execute_result"
    }
   ],
   "source": [
    "usuarios_data_science ^ usuarios_machine_learning"
   ]
  },
  {
   "cell_type": "code",
   "execution_count": 18,
   "id": "39f2cec5-0b77-4190-a11f-e568c8190f58",
   "metadata": {},
   "outputs": [
    {
     "data": {
      "text/plain": [
       "7"
      ]
     },
     "execution_count": 18,
     "metadata": {},
     "output_type": "execute_result"
    }
   ],
   "source": [
    "usuarios = {1, 5, 76, 34, 52, 13, 17}\n",
    "len(usuarios)"
   ]
  },
  {
   "cell_type": "code",
   "execution_count": 21,
   "id": "b1b7e0c9-a265-459b-aa61-8da48c413bed",
   "metadata": {},
   "outputs": [
    {
     "data": {
      "text/plain": [
       "7"
      ]
     },
     "execution_count": 21,
     "metadata": {},
     "output_type": "execute_result"
    }
   ],
   "source": [
    "usuarios.add(13)\n",
    "len(usuarios)"
   ]
  },
  {
   "cell_type": "code",
   "execution_count": 22,
   "id": "b054227b-8b7f-4c9c-b3cf-3722da74bd6c",
   "metadata": {},
   "outputs": [
    {
     "data": {
      "text/plain": [
       "8"
      ]
     },
     "execution_count": 22,
     "metadata": {},
     "output_type": "execute_result"
    }
   ],
   "source": [
    "usuarios.add(765)\n",
    "len(usuarios)"
   ]
  },
  {
   "cell_type": "code",
   "execution_count": 23,
   "id": "01d4b49b-2caa-4f93-b954-672e35575e83",
   "metadata": {},
   "outputs": [
    {
     "data": {
      "text/plain": [
       "frozenset({1, 5, 13, 17, 34, 52, 76, 765})"
      ]
     },
     "execution_count": 23,
     "metadata": {},
     "output_type": "execute_result"
    }
   ],
   "source": [
    "usuarios = frozenset(usuarios)\n",
    "usuarios"
   ]
  },
  {
   "cell_type": "code",
   "execution_count": 24,
   "id": "fc7adb12-3ffa-44fd-8a90-26f76784cba2",
   "metadata": {},
   "outputs": [
    {
     "data": {
      "text/plain": [
       "frozenset"
      ]
     },
     "execution_count": 24,
     "metadata": {},
     "output_type": "execute_result"
    }
   ],
   "source": [
    "type(usuarios)"
   ]
  },
  {
   "cell_type": "code",
   "execution_count": 25,
   "id": "dac6c9bc-d30f-4342-8745-a453653c7189",
   "metadata": {},
   "outputs": [
    {
     "ename": "AttributeError",
     "evalue": "'frozenset' object has no attribute 'add'",
     "output_type": "error",
     "traceback": [
      "\u001b[1;31m---------------------------------------------------------------------------\u001b[0m",
      "\u001b[1;31mAttributeError\u001b[0m                            Traceback (most recent call last)",
      "\u001b[1;32m~\\AppData\\Local\\Temp/ipykernel_8360/4073531611.py\u001b[0m in \u001b[0;36m<module>\u001b[1;34m\u001b[0m\n\u001b[1;32m----> 1\u001b[1;33m \u001b[0musuarios\u001b[0m\u001b[1;33m.\u001b[0m\u001b[0madd\u001b[0m\u001b[1;33m(\u001b[0m\u001b[1;36m12\u001b[0m\u001b[1;33m)\u001b[0m\u001b[1;33m\u001b[0m\u001b[1;33m\u001b[0m\u001b[0m\n\u001b[0m",
      "\u001b[1;31mAttributeError\u001b[0m: 'frozenset' object has no attribute 'add'"
     ]
    }
   ],
   "source": [
    "usuarios.add(12)"
   ]
  },
  {
   "cell_type": "code",
   "execution_count": 26,
   "id": "23b20ec7-81bf-4830-b84f-b285fb78722c",
   "metadata": {},
   "outputs": [
    {
     "data": {
      "text/plain": [
       "['Bem',\n",
       " 'vindo,',\n",
       " 'meu',\n",
       " 'nome',\n",
       " 'é',\n",
       " 'Matheus,',\n",
       " 'eu',\n",
       " 'gosto',\n",
       " 'muito',\n",
       " 'de',\n",
       " 'cachorros',\n",
       " 'e',\n",
       " 'tenho',\n",
       " 'o',\n",
       " 'meu',\n",
       " 'cachorro',\n",
       " 'Billy']"
      ]
     },
     "execution_count": 26,
     "metadata": {},
     "output_type": "execute_result"
    }
   ],
   "source": [
    "meu_texto = \"Bem vindo, meu nome é Matheus, eu gosto muito de cachorros e tenho o meu cachorro Billy\"\n",
    "meu_texto.split()"
   ]
  },
  {
   "cell_type": "code",
   "execution_count": 30,
   "id": "8df4f08c-d752-4d98-a0d2-697ad3298172",
   "metadata": {},
   "outputs": [
    {
     "data": {
      "text/plain": [
       "{'Bem',\n",
       " 'Billy',\n",
       " 'Matheus,',\n",
       " 'cachorro',\n",
       " 'cachorros',\n",
       " 'de',\n",
       " 'e',\n",
       " 'eu',\n",
       " 'gosto',\n",
       " 'meu',\n",
       " 'muito',\n",
       " 'nome',\n",
       " 'o',\n",
       " 'tenho',\n",
       " 'vindo,',\n",
       " 'é'}"
      ]
     },
     "execution_count": 30,
     "metadata": {},
     "output_type": "execute_result"
    }
   ],
   "source": [
    "set(meu_texto.split())"
   ]
  },
  {
   "cell_type": "code",
   "execution_count": 32,
   "id": "bf891675-905d-4fff-814b-890566f60323",
   "metadata": {},
   "outputs": [],
   "source": [
    "#Mapa Dicionario"
   ]
  },
  {
   "cell_type": "code",
   "execution_count": 33,
   "id": "e8281615-88bf-40af-b5d5-2ff153f212f0",
   "metadata": {},
   "outputs": [
    {
     "data": {
      "text/plain": [
       "dict"
      ]
     },
     "execution_count": 33,
     "metadata": {},
     "output_type": "execute_result"
    }
   ],
   "source": [
    "aparicoes = {\n",
    "    \"Guilherme\" : 1,\n",
    "    \"Diego\" : 2,\n",
    "    \"nome\" : 0,\n",
    "    \"vindo\" : 1\n",
    "}\n",
    "type(aparicoes)"
   ]
  },
  {
   "cell_type": "code",
   "execution_count": 34,
   "id": "c4babb06-bf37-4028-a4f0-b979f8b1c2cd",
   "metadata": {},
   "outputs": [
    {
     "data": {
      "text/plain": [
       "1"
      ]
     },
     "execution_count": 34,
     "metadata": {},
     "output_type": "execute_result"
    }
   ],
   "source": [
    "aparicoes[\"Guilherme\"]"
   ]
  },
  {
   "cell_type": "code",
   "execution_count": 35,
   "id": "4e8a1815-ab9e-4bfe-bb47-c29ef5882bbf",
   "metadata": {},
   "outputs": [
    {
     "ename": "KeyError",
     "evalue": "'xpt'",
     "output_type": "error",
     "traceback": [
      "\u001b[1;31m---------------------------------------------------------------------------\u001b[0m",
      "\u001b[1;31mKeyError\u001b[0m                                  Traceback (most recent call last)",
      "\u001b[1;32m~\\AppData\\Local\\Temp/ipykernel_8360/1519474018.py\u001b[0m in \u001b[0;36m<module>\u001b[1;34m\u001b[0m\n\u001b[1;32m----> 1\u001b[1;33m \u001b[0maparicoes\u001b[0m\u001b[1;33m[\u001b[0m\u001b[1;34m\"xpt\"\u001b[0m\u001b[1;33m]\u001b[0m\u001b[1;33m\u001b[0m\u001b[1;33m\u001b[0m\u001b[0m\n\u001b[0m",
      "\u001b[1;31mKeyError\u001b[0m: 'xpt'"
     ]
    }
   ],
   "source": [
    "aparicoes[\"xpt\"]"
   ]
  },
  {
   "cell_type": "code",
   "execution_count": 36,
   "id": "a30b0d45-59f1-4699-8aea-bb52425d3a52",
   "metadata": {},
   "outputs": [
    {
     "data": {
      "text/plain": [
       "0"
      ]
     },
     "execution_count": 36,
     "metadata": {},
     "output_type": "execute_result"
    }
   ],
   "source": [
    "aparicoes.get(\"xpt\", 0)"
   ]
  },
  {
   "cell_type": "code",
   "execution_count": 37,
   "id": "a76da185-1b89-4f4a-a14f-6ed0d81a8ae2",
   "metadata": {},
   "outputs": [
    {
     "data": {
      "text/plain": [
       "1"
      ]
     },
     "execution_count": 37,
     "metadata": {},
     "output_type": "execute_result"
    }
   ],
   "source": [
    "aparicoes.get(\"vindo\", 0)"
   ]
  },
  {
   "cell_type": "code",
   "execution_count": 38,
   "id": "6566deec-54ae-43e5-8c9d-dd163b37a412",
   "metadata": {},
   "outputs": [],
   "source": [
    "aparicoes = dict(Guilherme = 2, Joao = 1)"
   ]
  },
  {
   "cell_type": "code",
   "execution_count": 39,
   "id": "51be9eaf-fcee-477d-afdc-03eb6cc30900",
   "metadata": {},
   "outputs": [
    {
     "data": {
      "text/plain": [
       "{'Guilherme': 2, 'Joao': 1}"
      ]
     },
     "execution_count": 39,
     "metadata": {},
     "output_type": "execute_result"
    }
   ],
   "source": [
    "aparicoes"
   ]
  },
  {
   "cell_type": "code",
   "execution_count": 40,
   "id": "f710ae66-235e-4eb7-8012-a8d8cb8a6119",
   "metadata": {},
   "outputs": [
    {
     "data": {
      "text/plain": [
       "{'Guilherme': 2, 'Joao': 1, 'Carlos': 1}"
      ]
     },
     "execution_count": 40,
     "metadata": {},
     "output_type": "execute_result"
    }
   ],
   "source": [
    "aparicoes[\"Carlos\"] = 1\n",
    "aparicoes"
   ]
  },
  {
   "cell_type": "code",
   "execution_count": 43,
   "id": "29750b38-2d45-4cd6-95d8-6c34994f2b3a",
   "metadata": {},
   "outputs": [
    {
     "data": {
      "text/plain": [
       "{'Guilherme': 2, 'Joao': 1, 'Carlos': 2}"
      ]
     },
     "execution_count": 43,
     "metadata": {},
     "output_type": "execute_result"
    }
   ],
   "source": [
    "aparicoes[\"Carlos\"] = 2\n",
    "aparicoes"
   ]
  },
  {
   "cell_type": "code",
   "execution_count": 45,
   "id": "cfdbeac9-9a7e-4234-9565-fe7b0a108400",
   "metadata": {},
   "outputs": [
    {
     "ename": "KeyError",
     "evalue": "'Carlos'",
     "output_type": "error",
     "traceback": [
      "\u001b[1;31m---------------------------------------------------------------------------\u001b[0m",
      "\u001b[1;31mKeyError\u001b[0m                                  Traceback (most recent call last)",
      "\u001b[1;32m~\\AppData\\Local\\Temp/ipykernel_8360/295271939.py\u001b[0m in \u001b[0;36m<module>\u001b[1;34m\u001b[0m\n\u001b[1;32m----> 1\u001b[1;33m \u001b[1;32mdel\u001b[0m \u001b[0maparicoes\u001b[0m\u001b[1;33m[\u001b[0m\u001b[1;34m\"Carlos\"\u001b[0m\u001b[1;33m]\u001b[0m\u001b[1;33m\u001b[0m\u001b[1;33m\u001b[0m\u001b[0m\n\u001b[0m\u001b[0;32m      2\u001b[0m \u001b[0maparicoes\u001b[0m\u001b[1;33m\u001b[0m\u001b[1;33m\u001b[0m\u001b[0m\n",
      "\u001b[1;31mKeyError\u001b[0m: 'Carlos'"
     ]
    }
   ],
   "source": [
    "del aparicoes[\"Carlos\"]"
   ]
  },
  {
   "cell_type": "code",
   "execution_count": 47,
   "id": "8285ab24-d987-40be-991a-9b3e66d0c362",
   "metadata": {},
   "outputs": [
    {
     "data": {
      "text/plain": [
       "{'Guilherme': 2, 'Joao': 1}"
      ]
     },
     "execution_count": 47,
     "metadata": {},
     "output_type": "execute_result"
    }
   ],
   "source": [
    "aparicoes"
   ]
  },
  {
   "cell_type": "code",
   "execution_count": 48,
   "id": "05bfbe4f-4e89-477c-8430-fd3d6bf931c8",
   "metadata": {},
   "outputs": [
    {
     "data": {
      "text/plain": [
       "False"
      ]
     },
     "execution_count": 48,
     "metadata": {},
     "output_type": "execute_result"
    }
   ],
   "source": [
    "\"cachorro\" in aparicoes"
   ]
  },
  {
   "cell_type": "code",
   "execution_count": 49,
   "id": "0cd78a1f-f74d-403b-b38e-92f997b3f328",
   "metadata": {},
   "outputs": [
    {
     "data": {
      "text/plain": [
       "False"
      ]
     },
     "execution_count": 49,
     "metadata": {},
     "output_type": "execute_result"
    }
   ],
   "source": [
    "\"Carlos\" in aparicoes"
   ]
  },
  {
   "cell_type": "code",
   "execution_count": 50,
   "id": "69518efe-a1a8-43fd-abc9-5499724ba8ab",
   "metadata": {},
   "outputs": [
    {
     "name": "stdout",
     "output_type": "stream",
     "text": [
      "Guilherme\n",
      "Joao\n"
     ]
    }
   ],
   "source": [
    "for element in aparicoes:\n",
    "    print(element)"
   ]
  },
  {
   "cell_type": "code",
   "execution_count": 52,
   "id": "5f0c6d16-b8d9-4f16-afd4-28dd5d01a91f",
   "metadata": {},
   "outputs": [
    {
     "name": "stdout",
     "output_type": "stream",
     "text": [
      "2\n",
      "1\n"
     ]
    }
   ],
   "source": [
    "for element in aparicoes.keys():\n",
    "    print(element)"
   ]
  },
  {
   "cell_type": "code",
   "execution_count": 55,
   "id": "9ae21892-50c6-4262-8487-bef62119f899",
   "metadata": {},
   "outputs": [
    {
     "name": "stdout",
     "output_type": "stream",
     "text": [
      "2\n",
      "1\n"
     ]
    }
   ],
   "source": [
    "for element in aparicoes.values():\n",
    "    print(element)"
   ]
  },
  {
   "cell_type": "code",
   "execution_count": 56,
   "id": "3a7e440d-8b86-4082-8f5a-deb5498610bb",
   "metadata": {},
   "outputs": [
    {
     "name": "stdout",
     "output_type": "stream",
     "text": [
      "Guilherme 2\n",
      "Joao 1\n"
     ]
    }
   ],
   "source": [
    "for element in aparicoes.keys():\n",
    "    print(element, aparicoes[element])"
   ]
  },
  {
   "cell_type": "code",
   "execution_count": 58,
   "id": "f623dc2e-851f-442c-8039-d0c268434045",
   "metadata": {},
   "outputs": [
    {
     "name": "stdout",
     "output_type": "stream",
     "text": [
      "('Guilherme', 2)\n",
      "('Joao', 1)\n"
     ]
    }
   ],
   "source": [
    "for element in aparicoes.items():\n",
    "    print(element)"
   ]
  },
  {
   "cell_type": "code",
   "execution_count": 59,
   "id": "3cf723d6-260f-4347-bcfa-e6a67917567c",
   "metadata": {},
   "outputs": [
    {
     "name": "stdout",
     "output_type": "stream",
     "text": [
      "Guilherme = 2\n",
      "Joao = 1\n"
     ]
    }
   ],
   "source": [
    "for chave, valor in aparicoes.items():\n",
    "    print(chave, \"=\", valor)"
   ]
  },
  {
   "cell_type": "code",
   "execution_count": 60,
   "id": "4a7c61a6-6647-4e27-a9e2-fece0fed9d1e",
   "metadata": {},
   "outputs": [
    {
     "data": {
      "text/plain": [
       "['palavra Guilherme', 'palavra Joao']"
      ]
     },
     "execution_count": 60,
     "metadata": {},
     "output_type": "execute_result"
    }
   ],
   "source": [
    "[\"palavra {}\".format(chave) for chave in aparicoes.keys()]"
   ]
  },
  {
   "cell_type": "code",
   "execution_count": 68,
   "id": "cf371c78-f4a1-42aa-b840-ecec0e15437c",
   "metadata": {},
   "outputs": [
    {
     "data": {
      "text/plain": [
       "{'bem': 1,\n",
       " 'vindo,': 1,\n",
       " 'meu': 2,\n",
       " 'nome': 1,\n",
       " 'é': 1,\n",
       " 'matheus,': 1,\n",
       " 'eu': 1,\n",
       " 'gosto': 1,\n",
       " 'muito': 1,\n",
       " 'de': 1,\n",
       " 'cachorros': 1,\n",
       " 'e': 1,\n",
       " 'tenho': 1,\n",
       " 'o': 1,\n",
       " 'cachorro': 1,\n",
       " 'billy': 1}"
      ]
     },
     "execution_count": 68,
     "metadata": {},
     "output_type": "execute_result"
    }
   ],
   "source": [
    "meu_texto = \"Bem vindo, meu nome é Matheus, eu gosto muito de cachorros e tenho o meu cachorro Billy\"\n",
    "meu_texto = meu_texto.lower()\n",
    "\n",
    "aparicoes = {}\n",
    "\n",
    "for palavra in meu_texto.split():\n",
    "    ate_agora = aparicoes.get(palavra, 0)\n",
    "    aparicoes[palavra] = ate_agora + 1\n",
    "    \n",
    "aparicoes"
   ]
  },
  {
   "cell_type": "code",
   "execution_count": 71,
   "id": "12bba10a-bf13-48f3-af2e-f43ab3bdf175",
   "metadata": {},
   "outputs": [
    {
     "data": {
      "text/plain": [
       "15"
      ]
     },
     "execution_count": 71,
     "metadata": {},
     "output_type": "execute_result"
    }
   ],
   "source": [
    "int(15)"
   ]
  },
  {
   "cell_type": "code",
   "execution_count": 72,
   "id": "ca3136d3-fbca-4644-8720-a17613cf92e6",
   "metadata": {},
   "outputs": [
    {
     "data": {
      "text/plain": [
       "0"
      ]
     },
     "execution_count": 72,
     "metadata": {},
     "output_type": "execute_result"
    }
   ],
   "source": [
    "int()"
   ]
  },
  {
   "cell_type": "code",
   "execution_count": 73,
   "id": "ef734b85-073d-42e3-906a-5e1ac2168954",
   "metadata": {},
   "outputs": [
    {
     "data": {
      "text/plain": [
       "int"
      ]
     },
     "execution_count": 73,
     "metadata": {},
     "output_type": "execute_result"
    }
   ],
   "source": [
    "int"
   ]
  },
  {
   "cell_type": "code",
   "execution_count": null,
   "id": "dfd2b230-b439-48d2-87a4-80015115904c",
   "metadata": {},
   "outputs": [],
   "source": []
  },
  {
   "cell_type": "code",
   "execution_count": 75,
   "id": "15f992d7-ab24-43f9-a647-5609358a240c",
   "metadata": {},
   "outputs": [
    {
     "data": {
      "text/plain": [
       "defaultdict(int,\n",
       "            {'bem': 1,\n",
       "             'vindo,': 1,\n",
       "             'meu': 2,\n",
       "             'nome': 1,\n",
       "             'é': 1,\n",
       "             'matheus,': 1,\n",
       "             'eu': 1,\n",
       "             'gosto': 1,\n",
       "             'muito': 1,\n",
       "             'de': 1,\n",
       "             'cachorros': 1,\n",
       "             'e': 1,\n",
       "             'tenho': 1,\n",
       "             'o': 1,\n",
       "             'cachorro': 1,\n",
       "             'billy': 1})"
      ]
     },
     "execution_count": 75,
     "metadata": {},
     "output_type": "execute_result"
    }
   ],
   "source": [
    "from collections import defaultdict\n",
    "\n",
    "\n",
    "meu_texto = \"Bem vindo, meu nome é Matheus, eu gosto muito de cachorros e tenho o meu cachorro Billy\"\n",
    "meu_texto = meu_texto.lower()\n",
    "\n",
    "aparicoes = defaultdict(int)\n",
    "\n",
    "for palavra in meu_texto.split():\n",
    "    ate_agora = aparicoes[palavra]\n",
    "    aparicoes[palavra] = ate_agora + 1\n",
    "    \n",
    "aparicoes"
   ]
  },
  {
   "cell_type": "code",
   "execution_count": 76,
   "id": "bc9711e8-0eb7-4fed-908a-1d062a390bb5",
   "metadata": {},
   "outputs": [
    {
     "data": {
      "text/plain": [
       "0"
      ]
     },
     "execution_count": 76,
     "metadata": {},
     "output_type": "execute_result"
    }
   ],
   "source": [
    "dicionario = defaultdict(int)\n",
    "dicionario[\"Matheus\"]"
   ]
  },
  {
   "cell_type": "code",
   "execution_count": 78,
   "id": "d894923d-e5fb-44e6-9ebe-d7390b14f699",
   "metadata": {},
   "outputs": [
    {
     "data": {
      "text/plain": [
       "2"
      ]
     },
     "execution_count": 78,
     "metadata": {},
     "output_type": "execute_result"
    }
   ],
   "source": [
    "dicionario[\"Matheus\"] = 2\n",
    "dicionario[\"Matheus\"]"
   ]
  },
  {
   "cell_type": "code",
   "execution_count": 79,
   "id": "138fa17a-2308-4e3c-aead-bc3eb9852ec8",
   "metadata": {},
   "outputs": [
    {
     "data": {
      "text/plain": [
       "defaultdict(int,\n",
       "            {'bem': 1,\n",
       "             'vindo,': 1,\n",
       "             'meu': 2,\n",
       "             'nome': 1,\n",
       "             'é': 1,\n",
       "             'matheus,': 1,\n",
       "             'eu': 1,\n",
       "             'gosto': 1,\n",
       "             'muito': 1,\n",
       "             'de': 1,\n",
       "             'cachorros': 1,\n",
       "             'e': 1,\n",
       "             'tenho': 1,\n",
       "             'o': 1,\n",
       "             'cachorro': 1,\n",
       "             'billy': 1})"
      ]
     },
     "execution_count": 79,
     "metadata": {},
     "output_type": "execute_result"
    }
   ],
   "source": [
    "meu_texto = \"Bem vindo, meu nome é Matheus, eu gosto muito de cachorros e tenho o meu cachorro Billy\"\n",
    "meu_texto = meu_texto.lower()\n",
    "\n",
    "aparicoes = defaultdict(int)\n",
    "\n",
    "for palavra in meu_texto.split():\n",
    "    aparicoes[palavra] += 1\n",
    "    \n",
    "aparicoes"
   ]
  },
  {
   "cell_type": "code",
   "execution_count": 83,
   "id": "12aa57c2-44a8-41f3-8fd4-341f6dec5dc0",
   "metadata": {},
   "outputs": [],
   "source": [
    "class Conta:\n",
    "    def __init__(self):\n",
    "        print(\"Criando uma conta\")"
   ]
  },
  {
   "cell_type": "code",
   "execution_count": 84,
   "id": "4e9af8dc-4575-4b92-9d12-f13598b6dffe",
   "metadata": {},
   "outputs": [],
   "source": [
    "contas = defaultdict(Conta)"
   ]
  },
  {
   "cell_type": "code",
   "execution_count": 85,
   "id": "4fdc9163-bf54-4fef-9d22-7d03c1739b13",
   "metadata": {},
   "outputs": [
    {
     "name": "stdout",
     "output_type": "stream",
     "text": [
      "Criando uma conta\n"
     ]
    },
    {
     "data": {
      "text/plain": [
       "<__main__.Conta at 0x1c76f80e950>"
      ]
     },
     "execution_count": 85,
     "metadata": {},
     "output_type": "execute_result"
    }
   ],
   "source": [
    "contas[15]"
   ]
  },
  {
   "cell_type": "code",
   "execution_count": 86,
   "id": "8f9fe2af-4f67-45a2-b9b5-2399aeb33215",
   "metadata": {},
   "outputs": [
    {
     "name": "stdout",
     "output_type": "stream",
     "text": [
      "Criando uma conta\n"
     ]
    },
    {
     "data": {
      "text/plain": [
       "<__main__.Conta at 0x1c76f80d6f0>"
      ]
     },
     "execution_count": 86,
     "metadata": {},
     "output_type": "execute_result"
    }
   ],
   "source": [
    "contas[17]"
   ]
  },
  {
   "cell_type": "code",
   "execution_count": 87,
   "id": "424d9784-3184-4c19-84c8-8098306fbd37",
   "metadata": {},
   "outputs": [
    {
     "data": {
      "text/plain": [
       "<__main__.Conta at 0x1c76f80e950>"
      ]
     },
     "execution_count": 87,
     "metadata": {},
     "output_type": "execute_result"
    }
   ],
   "source": [
    "contas[15]"
   ]
  },
  {
   "cell_type": "code",
   "execution_count": 88,
   "id": "76b09793-27a8-467d-a028-32f8aa302778",
   "metadata": {},
   "outputs": [
    {
     "data": {
      "text/plain": [
       "Counter({'bem': 1,\n",
       "         'vindo,': 1,\n",
       "         'meu': 2,\n",
       "         'nome': 1,\n",
       "         'é': 1,\n",
       "         'matheus,': 1,\n",
       "         'eu': 1,\n",
       "         'gosto': 1,\n",
       "         'muito': 1,\n",
       "         'de': 1,\n",
       "         'cachorros': 1,\n",
       "         'e': 1,\n",
       "         'tenho': 1,\n",
       "         'o': 1,\n",
       "         'cachorro': 1,\n",
       "         'billy': 1})"
      ]
     },
     "execution_count": 88,
     "metadata": {},
     "output_type": "execute_result"
    }
   ],
   "source": [
    "from collections import Counter\n",
    "\n",
    "aparicoes = Counter()\n",
    "for palavra in meu_texto.split():\n",
    "    aparicoes[palavra] += 1\n",
    "    \n",
    "aparicoes"
   ]
  },
  {
   "cell_type": "code",
   "execution_count": 89,
   "id": "011a7017-1354-423a-a7d0-0f3e4ad27fa5",
   "metadata": {},
   "outputs": [
    {
     "data": {
      "text/plain": [
       "Counter({'bem': 1,\n",
       "         'vindo,': 1,\n",
       "         'meu': 2,\n",
       "         'nome': 1,\n",
       "         'é': 1,\n",
       "         'matheus,': 1,\n",
       "         'eu': 1,\n",
       "         'gosto': 1,\n",
       "         'muito': 1,\n",
       "         'de': 1,\n",
       "         'cachorros': 1,\n",
       "         'e': 1,\n",
       "         'tenho': 1,\n",
       "         'o': 1,\n",
       "         'cachorro': 1,\n",
       "         'billy': 1})"
      ]
     },
     "execution_count": 89,
     "metadata": {},
     "output_type": "execute_result"
    }
   ],
   "source": [
    "from collections import Counter\n",
    "\n",
    "aparicoes = Counter(meu_texto.split())\n",
    "aparicoes"
   ]
  },
  {
   "cell_type": "code",
   "execution_count": 90,
   "id": "964a409d-8eac-4f5d-8133-c06256b303eb",
   "metadata": {},
   "outputs": [],
   "source": [
    "# Testando o uso de diversas coleções"
   ]
  },
  {
   "cell_type": "code",
   "execution_count": 91,
   "id": "ad039eec-4267-4521-bdc6-4340c4511036",
   "metadata": {},
   "outputs": [],
   "source": [
    "texto1 = \"\"\"\n",
    "Todas as dicas e conceitos apresentados a seguir têm como objetivo apenas informar e educar. O livro que disponibilizamos ao final deste artigo, não tem intenção nenhuma de servir como orientação médica, prescrição ou substituir diagnósticos de profissionais. É de suma importância que antes de começar a praticar qualquer exercício ou realizar alguma dieta, o leitor tenha a aprovação de um profissional licenciado. Cada pessoa tem suas necessidades e limitações pessoais. Este livro foi baseado na experiência de algumas pessoas, o que pode não ser perfeito para você, leitor. Os autores se eximem de qualquer responsabilidade sobre o uso, interpretação e consequências do uso direto ou indireto de qualquer informação contida neste material. Desculpe-nos pela formalidade, mas ela é necessária para amarrar os aspectos legais sobre os quais este material está publicado.\n",
    "\"\"\""
   ]
  },
  {
   "cell_type": "code",
   "execution_count": 92,
   "id": "555d1636-20f9-4767-9af8-fb6ba8cd568c",
   "metadata": {},
   "outputs": [],
   "source": [
    "texto2 = \"\"\"\n",
    "Para emagrecer de forma rápida e saudável, é importante que a pessoa tenha hábitos saudáveis, que devem incluir a prática de atividade física de forma regular e que aumentem o metabolismo, e alimentos que também favoreçam o funcionamento do metabolismo, sendo importante que sejam ricos em fibras, pobres em gordura e açúcar e com poucas calorias.\n",
    "\n",
    "É importante que a alimentação seja recomendada por um nutricionista, que poderá indicar o plano alimentar mais adequado para o objetivo da pessoa de acordo com a sua taxa metabólica do momento, peso e características corporais.\n",
    "\n",
    "No entanto, é importante saber que a \"velocidade\" de emagrecimento pode variar de acordo com a quantidade de peso que se tem pra perder. Normalmente, quanto maior o peso que se tem para perder, mais se perde em menos tempo, já que o organismo é submetido a um estímulo diferente do que está habituado, por isso que na maioria das vezes nas primeiras semanas de dieta o emagrecimento é maior.\n",
    "\"\"\""
   ]
  },
  {
   "cell_type": "code",
   "execution_count": 99,
   "id": "448b2a8e-634e-4cb6-b576-e29e07d7ea16",
   "metadata": {},
   "outputs": [
    {
     "name": "stdout",
     "output_type": "stream",
     "text": [
      "('\\n', 0.002285714285714286)\n",
      "('t', 0.04114285714285714)\n",
      "('o', 0.08228571428571428)\n",
      "('d', 0.037714285714285714)\n",
      "('a', 0.09371428571428571)\n",
      "('s', 0.07657142857142857)\n",
      "(' ', 0.14971428571428572)\n",
      "('i', 0.07085714285714285)\n",
      "('c', 0.030857142857142857)\n",
      "('e', 0.10171428571428572)\n",
      "('n', 0.037714285714285714)\n",
      "('p', 0.026285714285714287)\n",
      "('r', 0.05714285714285714)\n",
      "('g', 0.006857142857142857)\n",
      "('u', 0.03314285714285714)\n",
      "('ê', 0.004571428571428572)\n",
      "('m', 0.027428571428571427)\n",
      "('b', 0.009142857142857144)\n",
      "('j', 0.001142857142857143)\n",
      "('v', 0.006857142857142857)\n",
      "('f', 0.009142857142857144)\n",
      "('.', 0.008)\n",
      "('l', 0.027428571428571427)\n",
      "('q', 0.012571428571428572)\n",
      "('z', 0.002285714285714286)\n",
      "(',', 0.008)\n",
      "('ã', 0.009142857142857144)\n",
      "('ç', 0.009142857142857144)\n",
      "('h', 0.002285714285714286)\n",
      "('é', 0.0034285714285714284)\n",
      "('ó', 0.001142857142857143)\n",
      "('â', 0.001142857142857143)\n",
      "('x', 0.0034285714285714284)\n",
      "('í', 0.001142857142857143)\n",
      "('õ', 0.001142857142857143)\n",
      "('-', 0.001142857142857143)\n",
      "('á', 0.002285714285714286)\n"
     ]
    }
   ],
   "source": [
    "texto1 = texto1.lower()\n",
    "aparicoes = Counter(texto1)\n",
    "total_caracteres_texto_1 = sum(aparicoes.values())\n",
    "\n",
    "for letra, frequencia in aparicoes.items():\n",
    "    tupla = (letra, frequencia / total_caracteres_texto_1)\n",
    "    print(tupla)\n",
    "    "
   ]
  },
  {
   "cell_type": "code",
   "execution_count": 122,
   "id": "ac21a64f-74b8-4b13-860d-716ea16fb60b",
   "metadata": {},
   "outputs": [],
   "source": [
    "def analisa_frequencia_de_letras(texto):\n",
    "    texto = texto.lower()\n",
    "    aparicoes = Counter(texto)\n",
    "    total_caracteres_texto_1 = sum(aparicoes.values())\n",
    "\n",
    "    proporcoes = [(letra, frequencia / total_caracteres_texto_1) for letra, frequencia in aparicoes.items()]\n",
    "    proporcoes = Counter(dict(proporcoes))\n",
    "    mais_comuns = proporcoes.most_common(10)\n",
    "    for caractere, proporcao in mais_comuns:\n",
    "        print(\"{} => {:.2f}%\".format(caractere, proporcao * 100))"
   ]
  },
  {
   "cell_type": "code",
   "execution_count": 123,
   "id": "2a981232-f0d5-4c4e-968e-eb161ce0de50",
   "metadata": {},
   "outputs": [
    {
     "name": "stdout",
     "output_type": "stream",
     "text": [
      "  => 14.97%\n",
      "e => 10.17%\n",
      "a => 9.37%\n",
      "o => 8.23%\n",
      "s => 7.66%\n",
      "i => 7.09%\n",
      "r => 5.71%\n",
      "t => 4.11%\n",
      "d => 3.77%\n",
      "n => 3.77%\n"
     ]
    }
   ],
   "source": [
    "analisa_frequencia_de_letras(texto1)\n"
   ]
  },
  {
   "cell_type": "code",
   "execution_count": 124,
   "id": "71b30737-bcaf-454a-81cf-7b48c6069a62",
   "metadata": {},
   "outputs": [
    {
     "name": "stdout",
     "output_type": "stream",
     "text": [
      "  => 16.36%\n",
      "e => 11.11%\n",
      "a => 10.19%\n",
      "o => 7.82%\n",
      "r => 5.76%\n",
      "m => 5.56%\n",
      "i => 5.14%\n",
      "s => 4.84%\n",
      "t => 4.53%\n",
      "d => 4.22%\n"
     ]
    }
   ],
   "source": [
    "analisa_frequencia_de_letras(texto2)"
   ]
  },
  {
   "cell_type": "code",
   "execution_count": null,
   "id": "df005238-0276-43df-8f30-af8244b209fd",
   "metadata": {},
   "outputs": [],
   "source": []
  }
 ],
 "metadata": {
  "kernelspec": {
   "display_name": "Python 3 (ipykernel)",
   "language": "python",
   "name": "python3"
  },
  "language_info": {
   "codemirror_mode": {
    "name": "ipython",
    "version": 3
   },
   "file_extension": ".py",
   "mimetype": "text/x-python",
   "name": "python",
   "nbconvert_exporter": "python",
   "pygments_lexer": "ipython3",
   "version": "3.10.0"
  }
 },
 "nbformat": 4,
 "nbformat_minor": 5
}
